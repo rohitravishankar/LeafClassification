{
 "cells": [
  {
   "cell_type": "code",
   "execution_count": 9,
   "metadata": {
    "collapsed": false
   },
   "outputs": [],
   "source": [
    "__author__ = \"rravishankar\"\n",
    "\n",
    "import numpy as np\n",
    "import pandas as pd\n",
    "from sklearn.linear_model import LogisticRegression\n",
    "from sklearn.grid_search import GridSearchCV\n",
    "from sklearn.preprocessing import StandardScaler\n",
    "from sklearn.preprocessing import LabelEncoder\n",
    "\n",
    "def warn(*args, **kwargs): pass\n",
    "import warnings\n",
    "warnings.warn = warn"
   ]
  },
  {
   "cell_type": "code",
   "execution_count": 2,
   "metadata": {
    "collapsed": false
   },
   "outputs": [],
   "source": [
    "#Training data \n",
    "train_data = pd.read_csv('../train.csv')\n",
    "x_train = train_data.drop(['id','species'], axis = 1).values\n",
    "\n",
    "#Encoding the names of plant species\n",
    "label_encoder = LabelEncoder().fit(train_data['species'])\n",
    "y_train = label_encoder.transform(train_data['species'])"
   ]
  },
  {
   "cell_type": "code",
   "execution_count": 3,
   "metadata": {
    "collapsed": true
   },
   "outputs": [],
   "source": [
    "#Standardization of the features\n",
    "scaler = StandardScaler().fit(x_train)\n",
    "x_train = scaler.transform(x_train)"
   ]
  },
  {
   "cell_type": "code",
   "execution_count": 4,
   "metadata": {
    "collapsed": false
   },
   "outputs": [
    {
     "data": {
      "text/plain": [
       "GridSearchCV(cv=5, error_score='raise',\n",
       "       estimator=LogisticRegression(C=1.0, class_weight=None, dual=False, fit_intercept=True,\n",
       "          intercept_scaling=1, max_iter=100, multi_class='multinomial',\n",
       "          n_jobs=1, penalty='l2', random_state=None, solver='lbfgs',\n",
       "          tol=0.0001, verbose=0, warm_start=False),\n",
       "       fit_params={}, iid=True, n_jobs=1,\n",
       "       param_grid={'C': [100, 1000], 'tol': [0.001, 0.0001]},\n",
       "       pre_dispatch='2*n_jobs', refit=True, scoring='log_loss', verbose=0)"
      ]
     },
     "execution_count": 4,
     "metadata": {},
     "output_type": "execute_result"
    }
   ],
   "source": [
    "#Building the Logistic Regression classifier\n",
    "params = {'C' : [100, 1000],'tol' : [0.001, 0.0001]}\n",
    "logistic_regression = LogisticRegression(solver = 'lbfgs', multi_class = 'multinomial')\n",
    "clf = GridSearchCV(logistic_regression, params, scoring = 'log_loss', cv = 5)\n",
    "clf.fit(x_train, y_train)"
   ]
  },
  {
   "cell_type": "code",
   "execution_count": 5,
   "metadata": {
    "collapsed": false
   },
   "outputs": [
    {
     "name": "stdout",
     "output_type": "stream",
     "text": [
      "{'C': 1000, 'tol': 0.001}\n",
      "[mean: -0.04409, std: 0.02003, params: {'C': 100, 'tol': 0.001}, mean: -0.04416, std: 0.02001, params: {'C': 100, 'tol': 0.0001}, mean: -0.04090, std: 0.02316, params: {'C': 1000, 'tol': 0.001}, mean: -0.04130, std: 0.02419, params: {'C': 1000, 'tol': 0.0001}]\n"
     ]
    }
   ],
   "source": [
    "print(clf.best_params_)\n",
    "print(clf.grid_scores_)"
   ]
  },
  {
   "cell_type": "code",
   "execution_count": 6,
   "metadata": {
    "collapsed": true
   },
   "outputs": [],
   "source": [
    "#Test data\n",
    "test_data = pd.read_csv('../input/test.csv')\n",
    "test_id = test_data.pop('id')\n",
    "x_test = test_data.values\n",
    "x_test = scaler.transform(x_test)"
   ]
  },
  {
   "cell_type": "code",
   "execution_count": 7,
   "metadata": {
    "collapsed": false
   },
   "outputs": [],
   "source": [
    "#Predicting the probabiity of each category\n",
    "y_test = clf.predict_proba(x_test)"
   ]
  },
  {
   "cell_type": "code",
   "execution_count": 8,
   "metadata": {
    "collapsed": true
   },
   "outputs": [],
   "source": [
    "#Writing the predictions to csv file\n",
    "submission = pd.DataFrame(y_test, index = test_id, columns = label_encoder.classes_)\n",
    "submission.to_csv('submissions.csv')"
   ]
  }
 ],
 "metadata": {
  "kernelspec": {
   "display_name": "Python 2",
   "language": "python",
   "name": "python2"
  },
  "language_info": {
   "codemirror_mode": {
    "name": "ipython",
    "version": 2
   },
   "file_extension": ".py",
   "mimetype": "text/x-python",
   "name": "python",
   "nbconvert_exporter": "python",
   "pygments_lexer": "ipython2",
   "version": "2.7.11"
  }
 },
 "nbformat": 4,
 "nbformat_minor": 0
}
