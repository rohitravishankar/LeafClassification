{
 "cells": [
  {
   "cell_type": "markdown",
   "metadata": {},
   "source": [
    "# Comparison of Classifiers"
   ]
  },
  {
   "cell_type": "markdown",
   "metadata": {},
   "source": [
    "Here we evaluate the performance of some of the popular machine learning algorithms in identifying the species of leaves."
   ]
  },
  {
   "cell_type": "code",
   "execution_count": 6,
   "metadata": {
    "collapsed": false
   },
   "outputs": [],
   "source": [
    "__author__ = \"rohitravishankar\"\n",
    "\n",
    "import numpy as np\n",
    "import pandas as pd\n",
    "from sklearn.preprocessing import LabelEncoder, StandardScaler \n",
    "from sklearn.cross_validation import StratifiedShuffleSplit\n",
    "from sklearn.discriminant_analysis import LinearDiscriminantAnalysis, QuadraticDiscriminantAnalysis\n",
    "from sklearn.neighbors import KNeighborsClassifier\n",
    "from sklearn.svm import SVC, LinearSVC, NuSVC\n",
    "from sklearn.ensemble import AdaBoostClassifier, GradientBoostingClassifier, RandomForestClassifier\n",
    "from sklearn.tree import DecisionTreeClassifier\n",
    "from sklearn.naive_bayes import GaussianNB\n",
    "from sklearn.metrics import accuracy_score, log_loss\n",
    "\n",
    "def warn(*args, **kwargs): pass\n",
    "import warnings\n",
    "warnings.warn = warn"
   ]
  },
  {
   "cell_type": "markdown",
   "metadata": {},
   "source": [
    "### Training Data "
   ]
  },
  {
   "cell_type": "code",
   "execution_count": 2,
   "metadata": {
    "collapsed": false
   },
   "outputs": [],
   "source": [
    "train_df = pd.read_csv('../train.csv')\n",
    "\n",
    "label_encoder = LabelEncoder().fit(train_df['species'])\n",
    "labels = label_encoder.transform(train_df['species'])\n",
    "train_df = train_df.drop(['id', 'species'], axis = 1)"
   ]
  },
  {
   "cell_type": "markdown",
   "metadata": {},
   "source": [
    "### Stratified Split"
   ]
  },
  {
   "cell_type": "markdown",
   "metadata": {},
   "source": [
    "This is to ensure that all classes are represented in both the training and test indices."
   ]
  },
  {
   "cell_type": "code",
   "execution_count": 3,
   "metadata": {
    "collapsed": false
   },
   "outputs": [],
   "source": [
    "stratified_shuffle_split = StratifiedShuffleSplit(labels, 10, test_size = 0.2, random_state = 23)\n",
    "\n",
    "for train_index, test_index in stratified_shuffle_split:\n",
    "    X_train, X_test = train_df.values[train_index], train_df.values[test_index]\n",
    "    y_train, y_test = labels[train_index], labels[test_index]"
   ]
  },
  {
   "cell_type": "markdown",
   "metadata": {},
   "source": [
    "### Classifier Comparison"
   ]
  },
  {
   "cell_type": "code",
   "execution_count": 4,
   "metadata": {
    "collapsed": false
   },
   "outputs": [
    {
     "name": "stdout",
     "output_type": "stream",
     "text": [
      "LinearDiscriminantAnalysis\n",
      "Accuracy: 97.9797979798%\n",
      "Log Loss: 0.930197776314\n",
      "\n",
      "\n",
      "QuadraticDiscriminantAnalysis\n",
      "Accuracy: 4.0404040404%\n",
      "Log Loss: 33.1432702779\n",
      "\n",
      "\n",
      "KNeighborsClassifier\n",
      "Accuracy: 88.8888888889%\n",
      "Log Loss: 1.57550751299\n",
      "\n",
      "\n",
      "SVC\n",
      "Accuracy: 81.8181818182%\n",
      "Log Loss: 4.59512196836\n",
      "\n",
      "\n",
      "NuSVC\n",
      "Accuracy: 88.3838383838%\n",
      "Log Loss: 2.48032192867\n",
      "\n",
      "\n",
      "AdaBoostClassifier\n",
      "Accuracy: 4.54545454545%\n",
      "Log Loss: 4.20721577649\n",
      "\n",
      "\n",
      "GradientBoostingClassifier\n",
      "Accuracy: 57.0707070707%\n",
      "Log Loss: 2.41913205807\n",
      "\n",
      "\n",
      "RandomForestClassifier\n",
      "Accuracy: 87.3737373737%\n",
      "Log Loss: 1.47341238195\n",
      "\n",
      "\n",
      "DecisionTreeClassifier\n",
      "Accuracy: 66.6666666667%\n",
      "Log Loss: 11.512925465\n",
      "\n",
      "\n",
      "GaussianNB\n",
      "Accuracy: 57.0707070707%\n",
      "Log Loss: 14.8272524928\n",
      "\n",
      "\n"
     ]
    }
   ],
   "source": [
    "classifiers = [\n",
    "    LinearDiscriminantAnalysis(),\n",
    "    QuadraticDiscriminantAnalysis(),\n",
    "    KNeighborsClassifier(3),\n",
    "    SVC(kernel=\"rbf\", C=0.025, probability=True),\n",
    "    NuSVC(probability=True),\n",
    "    AdaBoostClassifier(),\n",
    "    GradientBoostingClassifier(),\n",
    "    RandomForestClassifier(),\n",
    "    DecisionTreeClassifier(),\n",
    "    GaussianNB()\n",
    "]\n",
    "\n",
    "for clf in classifiers:\n",
    "    clf.fit(X_train, y_train)\n",
    "    \n",
    "    print(clf.__class__.__name__)\n",
    "    \n",
    "    #Accuracy of the model\n",
    "    predictions = clf.predict(X_test)\n",
    "    accuracy = accuracy_score(y_test, predictions) * 100\n",
    "    print(\"Accuracy: \" + str(accuracy) + \"%\")\n",
    "    \n",
    "    #Log loss of the model\n",
    "    predictions = clf.predict_proba(X_test)\n",
    "    logloss = log_loss(y_test, predictions)\n",
    "    print(\"Log Loss: \" + str(logloss) + \"\\n\\n\")\n"
   ]
  },
  {
   "cell_type": "markdown",
   "metadata": {},
   "source": [
    "### Test Data"
   ]
  },
  {
   "cell_type": "code",
   "execution_count": 5,
   "metadata": {
    "collapsed": true
   },
   "outputs": [],
   "source": [
    "test_df = pd.read_csv('../test.csv')\n",
    "test_id = test_df.pop('id')\n",
    "\n",
    "x_test = test_df.values"
   ]
  }
 ],
 "metadata": {
  "anaconda-cloud": {},
  "kernelspec": {
   "display_name": "Python 2",
   "language": "python",
   "name": "python2"
  },
  "language_info": {
   "codemirror_mode": {
    "name": "ipython",
    "version": 2
   },
   "file_extension": ".py",
   "mimetype": "text/x-python",
   "name": "python",
   "nbconvert_exporter": "python",
   "pygments_lexer": "ipython2",
   "version": "2.7.11"
  }
 },
 "nbformat": 4,
 "nbformat_minor": 1
}
